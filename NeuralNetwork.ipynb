{
  "nbformat": 4,
  "nbformat_minor": 0,
  "metadata": {
    "colab": {
      "provenance": []
    },
    "kernelspec": {
      "name": "python3",
      "display_name": "Python 3"
    },
    "language_info": {
      "name": "python"
    },
    "accelerator": "GPU",
    "gpuClass": "standard"
  },
  "cells": [
    {
      "cell_type": "code",
      "execution_count": 2,
      "metadata": {
        "colab": {
          "base_uri": "https://localhost:8080/"
        },
        "id": "6uK4BwJ8T_VT",
        "outputId": "30dcbe19-4297-49c8-bb6f-a78d3ef1e357"
      },
      "outputs": [
        {
          "output_type": "stream",
          "name": "stdout",
          "text": [
            "Drive already mounted at /content/drive; to attempt to forcibly remount, call drive.mount(\"/content/drive\", force_remount=True).\n"
          ]
        }
      ],
      "source": [
        "from google.colab import drive\n",
        "drive.mount('/content/drive')"
      ]
    },
    {
      "cell_type": "code",
      "source": [
        "import tensorflow as tf\n",
        "from tensorflow import keras\n",
        "from tensorflow.keras.layers import Conv2D, MaxPooling2D, Dropout, Dense, Rescaling, Flatten\n",
        "from tensorflow.keras.callbacks import EarlyStopping\n",
        "tf.test.gpu_device_name()"
      ],
      "metadata": {
        "colab": {
          "base_uri": "https://localhost:8080/",
          "height": 35
        },
        "id": "ndsG1H50UMGT",
        "outputId": "df3536d0-7c18-457f-f8d3-6deef27c5243"
      },
      "execution_count": 3,
      "outputs": [
        {
          "output_type": "execute_result",
          "data": {
            "text/plain": [
              "'/device:GPU:0'"
            ],
            "application/vnd.google.colaboratory.intrinsic+json": {
              "type": "string"
            }
          },
          "metadata": {},
          "execution_count": 3
        }
      ]
    },
    {
      "cell_type": "code",
      "source": [
        "# DATA SOURCE --------------------------------------------------\n",
        "\n",
        "image_size = (150, 150)\n",
        "batch_size = 32\n",
        "\n",
        "train_ds = tf.keras.preprocessing.image_dataset_from_directory(\n",
        "    \"/content/drive/My Drive/Colab Notebooks/datasets/Tomato Leaves Dataset\",\n",
        "    validation_split=0.3,\n",
        "    subset=\"training\",\n",
        "    seed=1337,\n",
        "    image_size=image_size,\n",
        "    batch_size=batch_size,\n",
        "    label_mode='categorical'\n",
        ")\n",
        "val_ds = tf.keras.preprocessing.image_dataset_from_directory(\n",
        "    \"/content/drive/My Drive/Colab Notebooks/datasets/Tomato Leaves Dataset\",\n",
        "    validation_split=0.3,\n",
        "    subset=\"validation\",\n",
        "    seed=1337,\n",
        "    image_size=image_size,\n",
        "    batch_size=batch_size,\n",
        "    label_mode='categorical'\n",
        ")\n",
        "\n",
        "train_ds = train_ds.prefetch(buffer_size=32)\n",
        "val_ds = val_ds.prefetch(buffer_size=32)"
      ],
      "metadata": {
        "colab": {
          "base_uri": "https://localhost:8080/"
        },
        "id": "f_t0VCVVUfwb",
        "outputId": "5c0fe13b-d8a6-443c-c8d0-6068a4053e6a"
      },
      "execution_count": 4,
      "outputs": [
        {
          "output_type": "stream",
          "name": "stdout",
          "text": [
            "Found 10199 files belonging to 10 classes.\n",
            "Using 7140 files for training.\n",
            "Found 10199 files belonging to 10 classes.\n",
            "Using 3059 files for validation.\n"
          ]
        }
      ]
    },
    {
      "cell_type": "code",
      "source": [
        "# MODEL --------------------------------------------------\n",
        "model = keras.Sequential()\n",
        "model.add(Rescaling(scale=(1./127.5),\n",
        "                    offset=-1,\n",
        "                    input_shape=(150, 150, 3)))\n",
        "model.add(Conv2D(32, kernel_size=(3, 3), activation='relu'))\n",
        "model.add(MaxPooling2D(pool_size=(2, 2)))\n",
        "model.add(Conv2D(64, (3, 3), activation='relu'))\n",
        "model.add(MaxPooling2D(pool_size=(2, 2)))\n",
        "model.add(Dropout(0.25))\n",
        "model.add(Conv2D(128, (3, 3), activation='relu'))\n",
        "model.add(MaxPooling2D(pool_size=(2, 2)))\n",
        "model.add(Dropout(0.25))\n",
        "\n",
        "model.add(Flatten())\n",
        "model.add(Dense(128, activation='relu'))\n",
        "model.add(Dropout(0.5))\n",
        "model.add(Dense(10, activation='softmax'))\n",
        "\n",
        "model.compile(loss=tf.keras.losses.categorical_crossentropy,\n",
        "              optimizer=tf.keras.optimizers.Adam(1e-3),\n",
        "              metrics=['accuracy'])"
      ],
      "metadata": {
        "id": "GNmi-FeuXD6D"
      },
      "execution_count": 5,
      "outputs": []
    },
    {
      "cell_type": "code",
      "source": [
        "# TRAINING --------------------------------------------------\n",
        "\n",
        "epochs = 200\n",
        "\n",
        "es = EarlyStopping(monitor='val_accuracy', mode='max', verbose=1, patience=10, restore_best_weights=True)\n",
        "\n",
        "h = model.fit(\n",
        "        train_ds,\n",
        "        epochs=epochs,\n",
        "        validation_data=val_ds,\n",
        "        callbacks = [es]\n",
        ")"
      ],
      "metadata": {
        "colab": {
          "base_uri": "https://localhost:8080/"
        },
        "id": "2seSUHOMXLOE",
        "outputId": "7413d1a2-40fb-44af-c2cf-3f351fbd4bc5"
      },
      "execution_count": 6,
      "outputs": [
        {
          "output_type": "stream",
          "name": "stdout",
          "text": [
            "Epoch 1/200\n",
            "224/224 [==============================] - 28s 95ms/step - loss: 1.5681 - accuracy: 0.4454 - val_loss: 0.9593 - val_accuracy: 0.7231\n",
            "Epoch 2/200\n",
            "224/224 [==============================] - 24s 104ms/step - loss: 1.0163 - accuracy: 0.6563 - val_loss: 0.6899 - val_accuracy: 0.7869\n",
            "Epoch 3/200\n",
            "224/224 [==============================] - 23s 101ms/step - loss: 0.8234 - accuracy: 0.7158 - val_loss: 0.6418 - val_accuracy: 0.7937\n",
            "Epoch 4/200\n",
            "224/224 [==============================] - 23s 100ms/step - loss: 0.7100 - accuracy: 0.7615 - val_loss: 0.5088 - val_accuracy: 0.8398\n",
            "Epoch 5/200\n",
            "224/224 [==============================] - 21s 93ms/step - loss: 0.5987 - accuracy: 0.7976 - val_loss: 0.4217 - val_accuracy: 0.8699\n",
            "Epoch 6/200\n",
            "224/224 [==============================] - 23s 99ms/step - loss: 0.5204 - accuracy: 0.8154 - val_loss: 0.4207 - val_accuracy: 0.8647\n",
            "Epoch 7/200\n",
            "224/224 [==============================] - 27s 120ms/step - loss: 0.5095 - accuracy: 0.8251 - val_loss: 0.3936 - val_accuracy: 0.8702\n",
            "Epoch 8/200\n",
            "224/224 [==============================] - 27s 117ms/step - loss: 0.4581 - accuracy: 0.8409 - val_loss: 0.3591 - val_accuracy: 0.8859\n",
            "Epoch 9/200\n",
            "224/224 [==============================] - 22s 97ms/step - loss: 0.4015 - accuracy: 0.8562 - val_loss: 0.3250 - val_accuracy: 0.8944\n",
            "Epoch 10/200\n",
            "224/224 [==============================] - 23s 101ms/step - loss: 0.3837 - accuracy: 0.8626 - val_loss: 0.3532 - val_accuracy: 0.8875\n",
            "Epoch 11/200\n",
            "224/224 [==============================] - 22s 95ms/step - loss: 0.3393 - accuracy: 0.8819 - val_loss: 0.3582 - val_accuracy: 0.8846\n",
            "Epoch 12/200\n",
            "224/224 [==============================] - 23s 100ms/step - loss: 0.3235 - accuracy: 0.8846 - val_loss: 0.3797 - val_accuracy: 0.8768\n",
            "Epoch 13/200\n",
            "224/224 [==============================] - 23s 100ms/step - loss: 0.3005 - accuracy: 0.8922 - val_loss: 0.2962 - val_accuracy: 0.9088\n",
            "Epoch 14/200\n",
            "224/224 [==============================] - 22s 95ms/step - loss: 0.2951 - accuracy: 0.8947 - val_loss: 0.3464 - val_accuracy: 0.8957\n",
            "Epoch 15/200\n",
            "224/224 [==============================] - 27s 117ms/step - loss: 0.2713 - accuracy: 0.9024 - val_loss: 0.3304 - val_accuracy: 0.9003\n",
            "Epoch 16/200\n",
            "224/224 [==============================] - 23s 100ms/step - loss: 0.2833 - accuracy: 0.8971 - val_loss: 0.3468 - val_accuracy: 0.9029\n",
            "Epoch 17/200\n",
            "224/224 [==============================] - 23s 102ms/step - loss: 0.2384 - accuracy: 0.9132 - val_loss: 0.4002 - val_accuracy: 0.8885\n",
            "Epoch 18/200\n",
            "224/224 [==============================] - 23s 100ms/step - loss: 0.2494 - accuracy: 0.9070 - val_loss: 0.3000 - val_accuracy: 0.9130\n",
            "Epoch 19/200\n",
            "224/224 [==============================] - 23s 102ms/step - loss: 0.2221 - accuracy: 0.9176 - val_loss: 0.3257 - val_accuracy: 0.9101\n",
            "Epoch 20/200\n",
            "224/224 [==============================] - 23s 100ms/step - loss: 0.1989 - accuracy: 0.9297 - val_loss: 0.3681 - val_accuracy: 0.9032\n",
            "Epoch 21/200\n",
            "224/224 [==============================] - 21s 94ms/step - loss: 0.1953 - accuracy: 0.9258 - val_loss: 0.3161 - val_accuracy: 0.9111\n",
            "Epoch 22/200\n",
            "224/224 [==============================] - 21s 92ms/step - loss: 0.1616 - accuracy: 0.9374 - val_loss: 0.3205 - val_accuracy: 0.9153\n",
            "Epoch 23/200\n",
            "224/224 [==============================] - 22s 96ms/step - loss: 0.1892 - accuracy: 0.9326 - val_loss: 0.3283 - val_accuracy: 0.9108\n",
            "Epoch 24/200\n",
            "224/224 [==============================] - 26s 116ms/step - loss: 0.2080 - accuracy: 0.9227 - val_loss: 0.3768 - val_accuracy: 0.9062\n",
            "Epoch 25/200\n",
            "224/224 [==============================] - 21s 92ms/step - loss: 0.1930 - accuracy: 0.9312 - val_loss: 0.3568 - val_accuracy: 0.9127\n",
            "Epoch 26/200\n",
            "224/224 [==============================] - 23s 98ms/step - loss: 0.1699 - accuracy: 0.9361 - val_loss: 0.3102 - val_accuracy: 0.9229\n",
            "Epoch 27/200\n",
            "224/224 [==============================] - 22s 96ms/step - loss: 0.1658 - accuracy: 0.9424 - val_loss: 0.3775 - val_accuracy: 0.9166\n",
            "Epoch 28/200\n",
            "224/224 [==============================] - 27s 117ms/step - loss: 0.1693 - accuracy: 0.9395 - val_loss: 0.3573 - val_accuracy: 0.9153\n",
            "Epoch 29/200\n",
            "224/224 [==============================] - 21s 93ms/step - loss: 0.1501 - accuracy: 0.9451 - val_loss: 0.3999 - val_accuracy: 0.9052\n",
            "Epoch 30/200\n",
            "224/224 [==============================] - 26s 116ms/step - loss: 0.1456 - accuracy: 0.9447 - val_loss: 0.3094 - val_accuracy: 0.9235\n",
            "Epoch 31/200\n",
            "224/224 [==============================] - 26s 116ms/step - loss: 0.1521 - accuracy: 0.9450 - val_loss: 0.3495 - val_accuracy: 0.9124\n",
            "Epoch 32/200\n",
            "224/224 [==============================] - 22s 98ms/step - loss: 0.1671 - accuracy: 0.9417 - val_loss: 0.4102 - val_accuracy: 0.9173\n",
            "Epoch 33/200\n",
            "224/224 [==============================] - 22s 96ms/step - loss: 0.1512 - accuracy: 0.9448 - val_loss: 0.3784 - val_accuracy: 0.9016\n",
            "Epoch 34/200\n",
            "224/224 [==============================] - 21s 91ms/step - loss: 0.1315 - accuracy: 0.9515 - val_loss: 0.3167 - val_accuracy: 0.9219\n",
            "Epoch 35/200\n",
            "224/224 [==============================] - 23s 100ms/step - loss: 0.1415 - accuracy: 0.9522 - val_loss: 0.3442 - val_accuracy: 0.9173\n",
            "Epoch 36/200\n",
            "224/224 [==============================] - 21s 92ms/step - loss: 0.1275 - accuracy: 0.9506 - val_loss: 0.3525 - val_accuracy: 0.9209\n",
            "Epoch 37/200\n",
            "224/224 [==============================] - 22s 97ms/step - loss: 0.1258 - accuracy: 0.9545 - val_loss: 0.5107 - val_accuracy: 0.9006\n",
            "Epoch 38/200\n",
            "224/224 [==============================] - 21s 91ms/step - loss: 0.1280 - accuracy: 0.9562 - val_loss: 0.3484 - val_accuracy: 0.9281\n",
            "Epoch 39/200\n",
            "224/224 [==============================] - 26s 115ms/step - loss: 0.1259 - accuracy: 0.9543 - val_loss: 0.3859 - val_accuracy: 0.9124\n",
            "Epoch 40/200\n",
            "224/224 [==============================] - 21s 94ms/step - loss: 0.1225 - accuracy: 0.9566 - val_loss: 0.3728 - val_accuracy: 0.9202\n",
            "Epoch 41/200\n",
            "224/224 [==============================] - 26s 115ms/step - loss: 0.1231 - accuracy: 0.9546 - val_loss: 0.4262 - val_accuracy: 0.9150\n",
            "Epoch 42/200\n",
            "224/224 [==============================] - 21s 93ms/step - loss: 0.1384 - accuracy: 0.9546 - val_loss: 0.3628 - val_accuracy: 0.9232\n",
            "Epoch 43/200\n",
            "224/224 [==============================] - 22s 95ms/step - loss: 0.1330 - accuracy: 0.9517 - val_loss: 0.4027 - val_accuracy: 0.9150\n",
            "Epoch 44/200\n",
            "224/224 [==============================] - 22s 97ms/step - loss: 0.1137 - accuracy: 0.9578 - val_loss: 0.3993 - val_accuracy: 0.9108\n",
            "Epoch 45/200\n",
            "224/224 [==============================] - 21s 91ms/step - loss: 0.1300 - accuracy: 0.9532 - val_loss: 0.4378 - val_accuracy: 0.9101\n",
            "Epoch 46/200\n",
            "224/224 [==============================] - 22s 98ms/step - loss: 0.1188 - accuracy: 0.9566 - val_loss: 0.3251 - val_accuracy: 0.9323\n",
            "Epoch 47/200\n",
            "224/224 [==============================] - 21s 93ms/step - loss: 0.0917 - accuracy: 0.9672 - val_loss: 0.4032 - val_accuracy: 0.9245\n",
            "Epoch 48/200\n",
            "224/224 [==============================] - 22s 98ms/step - loss: 0.1170 - accuracy: 0.9608 - val_loss: 0.3253 - val_accuracy: 0.9297\n",
            "Epoch 49/200\n",
            "224/224 [==============================] - 21s 91ms/step - loss: 0.1276 - accuracy: 0.9567 - val_loss: 0.3828 - val_accuracy: 0.9147\n",
            "Epoch 50/200\n",
            "224/224 [==============================] - 26s 115ms/step - loss: 0.0942 - accuracy: 0.9672 - val_loss: 0.3873 - val_accuracy: 0.9225\n",
            "Epoch 51/200\n",
            "224/224 [==============================] - 21s 93ms/step - loss: 0.0976 - accuracy: 0.9632 - val_loss: 0.4175 - val_accuracy: 0.9160\n",
            "Epoch 52/200\n",
            "224/224 [==============================] - 22s 95ms/step - loss: 0.0860 - accuracy: 0.9692 - val_loss: 0.4213 - val_accuracy: 0.9206\n",
            "Epoch 53/200\n",
            "224/224 [==============================] - 22s 93ms/step - loss: 0.1102 - accuracy: 0.9605 - val_loss: 0.3982 - val_accuracy: 0.9229\n",
            "Epoch 54/200\n",
            "224/224 [==============================] - 26s 116ms/step - loss: 0.0970 - accuracy: 0.9653 - val_loss: 0.3783 - val_accuracy: 0.9284\n",
            "Epoch 55/200\n",
            "224/224 [==============================] - 22s 94ms/step - loss: 0.0948 - accuracy: 0.9653 - val_loss: 0.4040 - val_accuracy: 0.9271\n",
            "Epoch 56/200\n",
            "223/224 [============================>.] - ETA: 0s - loss: 0.0913 - accuracy: 0.9664Restoring model weights from the end of the best epoch: 46.\n",
            "224/224 [==============================] - 22s 97ms/step - loss: 0.0912 - accuracy: 0.9664 - val_loss: 0.4412 - val_accuracy: 0.9091\n",
            "Epoch 56: early stopping\n"
          ]
        }
      ]
    },
    {
      "cell_type": "code",
      "source": [
        "import matplotlib.pyplot as plt\n",
        "\n",
        "plt.plot(h.history['accuracy'])\n",
        "plt.plot(h.history['val_accuracy'])\n",
        "plt.plot(h.history['loss'])\n",
        "plt.title('Model accuracy')\n",
        "plt.ylabel('accuracy')\n",
        "plt.xlabel('epoch')\n",
        "plt.legend(['training', 'validation','loss'], loc='upper right')\n",
        "plt.show()"
      ],
      "metadata": {
        "colab": {
          "base_uri": "https://localhost:8080/",
          "height": 295
        },
        "id": "IyGGP-DvNM3Z",
        "outputId": "00cecad7-5b78-4a0c-ba1b-6fa647623739"
      },
      "execution_count": null,
      "outputs": [
        {
          "output_type": "display_data",
          "data": {
            "text/plain": [
              "<Figure size 432x288 with 1 Axes>"
            ],
            "image/png": "[encoded data removed]"
          },
          "metadata": {
            "needs_background": "light"
          }
        }
      ]
    },
    {
      "cell_type": "code",
      "source": [
        "import numpy as np\n",
        "from sklearn.metrics import classification_report, confusion_matrix\n",
        "import seaborn as sns\n",
        "\n",
        "results = np.concatenate([(y, model.predict(x=x)) for x, y in val_ds], axis=1)\n",
        "\n",
        "predictions = np.argmax(results[0], axis=1)\n",
        "labels = np.argmax(results[1], axis=1)\n",
        "\n",
        "cf_matrix = confusion_matrix(labels, predictions)\n",
        "\n",
        "sns.heatmap(cf_matrix, annot=True, fmt=\"d\", cmap=\"Blues\")\n",
        "\n",
        "print(classification_report(labels, predictions, digits = 4))"
      ],
      "metadata": {
        "colab": {
          "base_uri": "https://localhost:8080/",
          "height": 1000
        },
        "id": "Hku1fPX4NYPk",
        "outputId": "fb09891f-4472-48a4-a7ec-dbd64bb30892"
      },
      "execution_count": null,
      "outputs": [
        {
          "output_type": "stream",
          "name": "stdout",
          "text": [
            "1/1 [==============================] - 0s 142ms/step\n",
            "1/1 [==============================] - 0s 35ms/step\n",
            "1/1 [==============================] - 0s 27ms/step\n",
            "1/1 [==============================] - 0s 40ms/step\n",
            "1/1 [==============================] - 0s 42ms/step\n",
            "1/1 [==============================] - 0s 36ms/step\n",
            "1/1 [==============================] - 0s 32ms/step\n",
            "1/1 [==============================] - 0s 36ms/step\n",
            "1/1 [==============================] - 0s 33ms/step\n",
            "1/1 [==============================] - 0s 37ms/step\n",
            "1/1 [==============================] - 0s 30ms/step\n",
            "1/1 [==============================] - 0s 33ms/step\n",
            "1/1 [==============================] - 0s 33ms/step\n",
            "1/1 [==============================] - 0s 44ms/step\n",
            "1/1 [==============================] - 0s 58ms/step\n",
            "1/1 [==============================] - 0s 56ms/step\n",
            "1/1 [==============================] - 0s 44ms/step\n",
            "1/1 [==============================] - 0s 96ms/step\n",
            "1/1 [==============================] - 0s 115ms/step\n",
            "1/1 [==============================] - 0s 88ms/step\n",
            "1/1 [==============================] - 0s 77ms/step\n",
            "1/1 [==============================] - 0s 87ms/step\n",
            "1/1 [==============================] - 0s 92ms/step\n",
            "1/1 [==============================] - 0s 126ms/step\n",
            "1/1 [==============================] - 0s 46ms/step\n",
            "1/1 [==============================] - 0s 124ms/step\n",
            "1/1 [==============================] - 0s 163ms/step\n",
            "1/1 [==============================] - 0s 118ms/step\n",
            "1/1 [==============================] - 0s 84ms/step\n",
            "1/1 [==============================] - 0s 37ms/step\n",
            "1/1 [==============================] - 0s 44ms/step\n",
            "1/1 [==============================] - 0s 53ms/step\n",
            "1/1 [==============================] - 0s 27ms/step\n",
            "1/1 [==============================] - 0s 67ms/step\n",
            "1/1 [==============================] - 0s 78ms/step\n",
            "1/1 [==============================] - 0s 45ms/step\n",
            "1/1 [==============================] - 0s 28ms/step\n",
            "1/1 [==============================] - 0s 57ms/step\n",
            "1/1 [==============================] - 0s 57ms/step\n",
            "1/1 [==============================] - 0s 37ms/step\n",
            "1/1 [==============================] - 0s 37ms/step\n",
            "1/1 [==============================] - 0s 58ms/step\n",
            "1/1 [==============================] - 0s 48ms/step\n",
            "1/1 [==============================] - 0s 49ms/step\n",
            "1/1 [==============================] - 0s 47ms/step\n",
            "1/1 [==============================] - 0s 32ms/step\n",
            "1/1 [==============================] - 0s 29ms/step\n",
            "1/1 [==============================] - 0s 27ms/step\n",
            "1/1 [==============================] - 0s 40ms/step\n",
            "1/1 [==============================] - 0s 58ms/step\n",
            "1/1 [==============================] - 0s 55ms/step\n",
            "1/1 [==============================] - 0s 23ms/step\n",
            "1/1 [==============================] - 0s 30ms/step\n",
            "1/1 [==============================] - 0s 27ms/step\n",
            "1/1 [==============================] - 0s 22ms/step\n",
            "1/1 [==============================] - 0s 20ms/step\n",
            "1/1 [==============================] - 0s 23ms/step\n",
            "1/1 [==============================] - 0s 21ms/step\n",
            "1/1 [==============================] - 0s 22ms/step\n",
            "1/1 [==============================] - 0s 22ms/step\n",
            "1/1 [==============================] - 0s 24ms/step\n",
            "1/1 [==============================] - 0s 23ms/step\n",
            "1/1 [==============================] - 0s 24ms/step\n",
            "1/1 [==============================] - 0s 21ms/step\n",
            "1/1 [==============================] - 0s 21ms/step\n",
            "1/1 [==============================] - 0s 21ms/step\n",
            "1/1 [==============================] - 0s 22ms/step\n",
            "1/1 [==============================] - 0s 26ms/step\n",
            "1/1 [==============================] - 0s 20ms/step\n",
            "1/1 [==============================] - 0s 19ms/step\n",
            "1/1 [==============================] - 0s 20ms/step\n",
            "1/1 [==============================] - 0s 20ms/step\n",
            "1/1 [==============================] - 0s 22ms/step\n",
            "1/1 [==============================] - 0s 21ms/step\n",
            "1/1 [==============================] - 0s 24ms/step\n",
            "1/1 [==============================] - 0s 23ms/step\n",
            "1/1 [==============================] - 0s 20ms/step\n",
            "1/1 [==============================] - 0s 19ms/step\n",
            "1/1 [==============================] - 0s 20ms/step\n",
            "1/1 [==============================] - 0s 20ms/step\n",
            "1/1 [==============================] - 0s 20ms/step\n",
            "1/1 [==============================] - 0s 19ms/step\n",
            "1/1 [==============================] - 0s 21ms/step\n",
            "1/1 [==============================] - 0s 21ms/step\n",
            "1/1 [==============================] - 0s 21ms/step\n",
            "1/1 [==============================] - 0s 21ms/step\n",
            "1/1 [==============================] - 0s 22ms/step\n",
            "1/1 [==============================] - 0s 26ms/step\n",
            "1/1 [==============================] - 0s 23ms/step\n",
            "1/1 [==============================] - 0s 19ms/step\n",
            "1/1 [==============================] - 0s 19ms/step\n",
            "1/1 [==============================] - 0s 24ms/step\n",
            "1/1 [==============================] - 0s 21ms/step\n",
            "1/1 [==============================] - 0s 19ms/step\n",
            "1/1 [==============================] - 0s 19ms/step\n",
            "1/1 [==============================] - 0s 85ms/step\n",
            "              precision    recall  f1-score   support\n",
            "\n",
            "           0     0.8731    0.8975    0.8851       322\n",
            "           1     0.8962    0.9283    0.9120       279\n",
            "           2     0.9485    0.9720    0.9601       322\n",
            "           3     0.9254    0.9254    0.9254       295\n",
            "           4     0.9346    0.9256    0.9301       309\n",
            "           5     0.8703    0.8900    0.8800       309\n",
            "           6     0.9799    0.9733    0.9766       300\n",
            "           7     0.9832    0.9361    0.9591       313\n",
            "           8     0.9734    0.9544    0.9638       307\n",
            "           9     0.9864    0.9604    0.9732       303\n",
            "\n",
            "    accuracy                         0.9363      3059\n",
            "   macro avg     0.9371    0.9363    0.9365      3059\n",
            "weighted avg     0.9372    0.9363    0.9365      3059\n",
            "\n"
          ]
        },
        {
          "output_type": "display_data",
          "data": {
            "text/plain": [
              "<Figure size 432x288 with 2 Axes>"
            ],
            "image/png": "[encoded data removed]"
          },
          "metadata": {
            "needs_background": "light"
          }
        }
      ]
    },
    {
      "cell_type": "code",
      "source": [
        "from tensorflow.keras.applications.vgg16 import VGG16\n",
        "from tensorflow.keras.preprocessing import image\n",
        "from tensorflow.keras.applications.vgg16 import preprocess_input, decode_predictions\n",
        "import numpy as np\n",
        "base_model = keras.applications.VGG16(\n",
        "    weights='imagenet',  # Load weights pre-trained on ImageNet.\n",
        "    input_shape=(150, 150, 3),\n",
        "    include_top=False)  # Do not include the ImageNet classifier at the top.\n",
        "\n",
        "base_model.trainable = False\n",
        "\n",
        "inputs = keras.Input(shape=(150, 150, 3))\n",
        "\n",
        "x = base_model(inputs, training=False)\n",
        "\n",
        "x = keras.layers.GlobalAveragePooling2D()(x)\n",
        "\n",
        "# Convert features of shape `base_model.output_shape[1:]` to vectors\n",
        "x = keras.layers.Dense(256, activation='relu')(x)\n",
        "outputs = keras.layers.Dense(10, activation='sigmoid')(x)\n",
        "\n",
        "model = keras.Model(inputs, outputs)\n",
        "model.compile(optimizer=keras.optimizers.Adam(),\n",
        "              loss=keras.losses.BinaryCrossentropy(from_logits=True),\n",
        "              metrics=[keras.metrics.BinaryAccuracy()])\n",
        "\n",
        "epochs = 1\n",
        "\n",
        "es = EarlyStopping(monitor='val_binary_accuracy', mode='max', verbose=1, patience=10, restore_best_weights=True)\n",
        "\n",
        "h = model.fit(\n",
        "        train_ds,\n",
        "        epochs=epochs,\n",
        "        validation_data=val_ds,\n",
        "        callbacks = [es]\n",
        ")\n"
      ],
      "metadata": {
        "colab": {
          "base_uri": "https://localhost:8080/"
        },
        "id": "aoaF-2SsVOti",
        "outputId": "43d8d65e-e83b-402a-89cf-0584207e38bb"
      },
      "execution_count": null,
      "outputs": [
        {
          "output_type": "stream",
          "name": "stdout",
          "text": [
            "Downloading data from https://storage.googleapis.com/tensorflow/keras-applications/vgg16/vgg16_weights_tf_dim_ordering_tf_kernels_notop.h5\n",
            "58889256/58889256 [==============================] - 3s 0us/step\n"
          ]
        },
        {
          "output_type": "stream",
          "name": "stderr",
          "text": [
            "/usr/local/lib/python3.8/dist-packages/tensorflow/python/util/dispatch.py:1082: UserWarning: \"`binary_crossentropy` received `from_logits=True`, but the `output` argument was produced by a sigmoid or softmax activation and thus does not represent logits. Was this intended?\"\n",
            "  return dispatch_target(*args, **kwargs)\n"
          ]
        },
        {
          "output_type": "stream",
          "name": "stdout",
          "text": [
            "224/224 [==============================] - 30s 123ms/step - loss: 0.2106 - binary_accuracy: 0.9331 - val_loss: 0.1265 - val_binary_accuracy: 0.9539\n"
          ]
        }
      ]
    },
    {
      "cell_type": "code",
      "metadata": {
        "colab": {
          "base_uri": "https://localhost:8080/"
        },
        "id": "djAlHGLz-Cjj",
        "outputId": "a5f60ccb-0086-41cc-81d3-d6486fc7a5db"
      },
      "source": [
        "img = keras.preprocessing.image.load_img(\n",
        "    \"/content/drive/My Drive/Colab Notebooks/datasets/Tomato Leaves Dataset/healthy/9c3ad610-7677-4f3c-9646-88069e0c61cb___GH_HL Leaf 449.2.JPG\", target_size=image_size\n",
        ")\n",
        "img_array = keras.preprocessing.image.img_to_array(img)\n",
        "img_array = tf.expand_dims(img_array, 0)  # Create batch axis\n",
        "\n",
        "predictions = model.predict(img_array)\n",
        "\n",
        "result = [\"Early_blight\",\"Late_blight\",\"Leaf_Mold\",\"Septoria_leaf_spot\",\"Spider_mites Two-spotted_spider_mite\",\"Target_Spot\",\"Tomato_Yellow_Leaf_Curl_Virus\",\"Tomato_mosaic_virus\",\"healthy\",\"powdery_mildew\"]\n",
        "\n",
        "print(result[np.argmax(predictions[0])])"
      ],
      "execution_count": null,
      "outputs": [
        {
          "output_type": "stream",
          "name": "stdout",
          "text": [
            "1/1 [==============================] - 0s 19ms/step\n",
            "healthy\n"
          ]
        }
      ]
    },
    {
      "cell_type": "code",
      "source": [
        "import numpy as np\n",
        "from sklearn.metrics import classification_report, confusion_matrix\n",
        "import seaborn as sns\n",
        "\n",
        "for x, y in val_ds:\n",
        "  print(len(y))\n",
        "\n",
        "results = np.concatenate([(y, model.predict(x=x)) for x, y in val_ds], axis=1)\n",
        "\n",
        "predictions = np.argmax(results[0], axis=1)\n",
        "labels = np.argmax(results[1], axis=1)\n",
        "\n",
        "cf_matrix = confusion_matrix(labels, predictions)\n",
        "\n",
        "sns.heatmap(cf_matrix, annot=True, fmt=\"d\", cmap=\"Blues\")\n",
        "\n",
        "print(classification_report(labels, predictions, digits = 4))"
      ],
      "metadata": {
        "id": "vaOyJSdqQirU",
        "colab": {
          "base_uri": "https://localhost:8080/",
          "height": 1000
        },
        "outputId": "837909b1-b244-4cad-919c-a4ef31191a03"
      },
      "execution_count": null,
      "outputs": [
        {
          "output_type": "stream",
          "name": "stdout",
          "text": [
            "32\n",
            "32\n",
            "32\n",
            "32\n",
            "32\n",
            "32\n",
            "32\n",
            "32\n",
            "32\n",
            "32\n",
            "32\n",
            "32\n",
            "32\n",
            "32\n",
            "32\n",
            "32\n",
            "32\n",
            "32\n",
            "32\n",
            "32\n",
            "32\n",
            "32\n",
            "32\n",
            "32\n",
            "32\n",
            "32\n",
            "32\n",
            "32\n",
            "32\n",
            "32\n",
            "32\n",
            "32\n",
            "32\n",
            "32\n",
            "32\n",
            "32\n",
            "32\n",
            "32\n",
            "32\n",
            "32\n",
            "32\n",
            "32\n",
            "32\n",
            "32\n",
            "32\n",
            "32\n",
            "32\n",
            "32\n",
            "32\n",
            "32\n",
            "32\n",
            "32\n",
            "32\n",
            "32\n",
            "32\n",
            "32\n",
            "32\n",
            "32\n",
            "32\n",
            "32\n",
            "32\n",
            "32\n",
            "32\n",
            "32\n",
            "32\n",
            "32\n",
            "32\n",
            "32\n",
            "32\n",
            "32\n",
            "32\n",
            "32\n",
            "32\n",
            "32\n",
            "32\n",
            "32\n",
            "32\n",
            "32\n",
            "32\n",
            "32\n",
            "32\n",
            "32\n",
            "32\n",
            "32\n",
            "32\n",
            "32\n",
            "32\n",
            "32\n",
            "32\n",
            "32\n",
            "32\n",
            "32\n",
            "32\n",
            "32\n",
            "32\n",
            "19\n",
            "1/1 [==============================] - 0s 30ms/step\n",
            "1/1 [==============================] - 0s 57ms/step\n",
            "1/1 [==============================] - 0s 71ms/step\n",
            "1/1 [==============================] - 0s 34ms/step\n",
            "1/1 [==============================] - 0s 60ms/step\n",
            "1/1 [==============================] - 0s 31ms/step\n",
            "1/1 [==============================] - 0s 38ms/step\n",
            "1/1 [==============================] - 0s 28ms/step\n",
            "1/1 [==============================] - 0s 28ms/step\n",
            "1/1 [==============================] - 0s 34ms/step\n",
            "1/1 [==============================] - 0s 37ms/step\n",
            "1/1 [==============================] - 0s 43ms/step\n",
            "1/1 [==============================] - 0s 51ms/step\n",
            "1/1 [==============================] - 0s 55ms/step\n",
            "1/1 [==============================] - 0s 35ms/step\n",
            "1/1 [==============================] - 0s 46ms/step\n",
            "1/1 [==============================] - 0s 34ms/step\n",
            "1/1 [==============================] - 0s 47ms/step\n",
            "1/1 [==============================] - 0s 26ms/step\n",
            "1/1 [==============================] - 0s 21ms/step\n",
            "1/1 [==============================] - 0s 26ms/step\n",
            "1/1 [==============================] - 0s 38ms/step\n",
            "1/1 [==============================] - 0s 24ms/step\n",
            "1/1 [==============================] - 0s 35ms/step\n",
            "1/1 [==============================] - 0s 21ms/step\n",
            "1/1 [==============================] - 0s 33ms/step\n",
            "1/1 [==============================] - 0s 45ms/step\n",
            "1/1 [==============================] - 0s 42ms/step\n",
            "1/1 [==============================] - 0s 26ms/step\n",
            "1/1 [==============================] - 0s 32ms/step\n",
            "1/1 [==============================] - 0s 34ms/step\n",
            "1/1 [==============================] - 0s 39ms/step\n",
            "1/1 [==============================] - 0s 30ms/step\n",
            "1/1 [==============================] - 0s 21ms/step\n",
            "1/1 [==============================] - 0s 24ms/step\n",
            "1/1 [==============================] - 0s 30ms/step\n",
            "1/1 [==============================] - 0s 27ms/step\n",
            "1/1 [==============================] - 0s 38ms/step\n",
            "1/1 [==============================] - 0s 24ms/step\n",
            "1/1 [==============================] - 0s 23ms/step\n",
            "1/1 [==============================] - 0s 21ms/step\n",
            "1/1 [==============================] - 0s 25ms/step\n",
            "1/1 [==============================] - 0s 37ms/step\n",
            "1/1 [==============================] - 0s 35ms/step\n",
            "1/1 [==============================] - 0s 38ms/step\n",
            "1/1 [==============================] - 0s 28ms/step\n",
            "1/1 [==============================] - 0s 36ms/step\n",
            "1/1 [==============================] - 0s 41ms/step\n",
            "1/1 [==============================] - 0s 22ms/step\n",
            "1/1 [==============================] - 0s 23ms/step\n",
            "1/1 [==============================] - 0s 26ms/step\n",
            "1/1 [==============================] - 0s 21ms/step\n",
            "1/1 [==============================] - 0s 23ms/step\n",
            "1/1 [==============================] - 0s 34ms/step\n",
            "1/1 [==============================] - 0s 29ms/step\n",
            "1/1 [==============================] - 0s 22ms/step\n",
            "1/1 [==============================] - 0s 28ms/step\n",
            "1/1 [==============================] - 0s 21ms/step\n",
            "1/1 [==============================] - 0s 22ms/step\n",
            "1/1 [==============================] - 0s 22ms/step\n",
            "1/1 [==============================] - 0s 22ms/step\n",
            "1/1 [==============================] - 0s 22ms/step\n",
            "1/1 [==============================] - 0s 26ms/step\n",
            "1/1 [==============================] - 0s 21ms/step\n",
            "1/1 [==============================] - 0s 22ms/step\n",
            "1/1 [==============================] - 0s 24ms/step\n",
            "1/1 [==============================] - 0s 21ms/step\n",
            "1/1 [==============================] - 0s 27ms/step\n",
            "1/1 [==============================] - 0s 22ms/step\n",
            "1/1 [==============================] - 0s 24ms/step\n",
            "1/1 [==============================] - 0s 21ms/step\n",
            "1/1 [==============================] - 0s 20ms/step\n",
            "1/1 [==============================] - 0s 22ms/step\n",
            "1/1 [==============================] - 0s 21ms/step\n",
            "1/1 [==============================] - 0s 21ms/step\n",
            "1/1 [==============================] - 0s 21ms/step\n",
            "1/1 [==============================] - 0s 21ms/step\n",
            "1/1 [==============================] - 0s 24ms/step\n",
            "1/1 [==============================] - 0s 26ms/step\n",
            "1/1 [==============================] - 0s 21ms/step\n",
            "1/1 [==============================] - 0s 24ms/step\n",
            "1/1 [==============================] - 0s 21ms/step\n",
            "1/1 [==============================] - 0s 22ms/step\n",
            "1/1 [==============================] - 0s 21ms/step\n",
            "1/1 [==============================] - 0s 23ms/step\n",
            "1/1 [==============================] - 0s 25ms/step\n",
            "1/1 [==============================] - 0s 22ms/step\n",
            "1/1 [==============================] - 0s 22ms/step\n",
            "1/1 [==============================] - 0s 21ms/step\n",
            "1/1 [==============================] - 0s 27ms/step\n",
            "1/1 [==============================] - 0s 21ms/step\n",
            "1/1 [==============================] - 0s 23ms/step\n",
            "1/1 [==============================] - 0s 22ms/step\n",
            "1/1 [==============================] - 0s 24ms/step\n",
            "1/1 [==============================] - 0s 21ms/step\n",
            "1/1 [==============================] - 0s 20ms/step\n",
            "              precision    recall  f1-score   support\n",
            "\n",
            "           0     0.6918    0.6379    0.6638       359\n",
            "           1     0.7889    0.7972    0.7930       286\n",
            "           2     0.7242    0.8328    0.7747       287\n",
            "           3     0.6305    0.7323    0.6776       254\n",
            "           4     0.6732    0.8340    0.7450       247\n",
            "           5     0.7247    0.6123    0.6638       374\n",
            "           6     0.9497    0.8654    0.9056       327\n",
            "           7     0.8893    0.9464    0.9170       280\n",
            "           8     0.8704    0.7616    0.8124       344\n",
            "           9     0.9525    0.9336    0.9430       301\n",
            "\n",
            "    accuracy                         0.7872      3059\n",
            "   macro avg     0.7895    0.7953    0.7896      3059\n",
            "weighted avg     0.7927    0.7872    0.7872      3059\n",
            "\n"
          ]
        },
        {
          "output_type": "display_data",
          "data": {
            "text/plain": [
              "<Figure size 432x288 with 2 Axes>"
            ],
            "image/png": "[encoded data removed]"
          },
          "metadata": {
            "needs_background": "light"
          }
        }
      ]
    }
  ]
}